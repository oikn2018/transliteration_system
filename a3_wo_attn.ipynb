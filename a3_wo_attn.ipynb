{
  "nbformat": 4,
  "nbformat_minor": 0,
  "metadata": {
    "colab": {
      "provenance": [],
      "include_colab_link": true
    },
    "kernelspec": {
      "name": "python3",
      "display_name": "Python 3"
    },
    "language_info": {
      "name": "python"
    },
    "accelerator": "GPU",
    "gpuClass": "standard"
  },
  "cells": [
    {
      "cell_type": "markdown",
      "metadata": {
        "id": "view-in-github",
        "colab_type": "text"
      },
      "source": [
        "<a href=\"https://colab.research.google.com/github/oikn2018/CS6910_assignment_3/blob/main/a3_wo_attn.ipynb\" target=\"_parent\"><img src=\"https://colab.research.google.com/assets/colab-badge.svg\" alt=\"Open In Colab\"/></a>"
      ]
    },
    {
      "cell_type": "code",
      "source": [
        "# Commands\n",
        "! pip install wget\n",
        "! pip install gdown\n",
        "! pip install --upgrade gdown\n",
        "# ! pip install wandb"
      ],
      "metadata": {
        "colab": {
          "base_uri": "https://localhost:8080/"
        },
        "id": "OR290vFmOUDY",
        "outputId": "b42e1efb-48c6-44e7-d860-7cafd15a7eba"
      },
      "execution_count": 1,
      "outputs": [
        {
          "output_type": "stream",
          "name": "stdout",
          "text": [
            "Looking in indexes: https://pypi.org/simple, https://us-python.pkg.dev/colab-wheels/public/simple/\n",
            "Collecting wget\n",
            "  Downloading wget-3.2.zip (10 kB)\n",
            "  Preparing metadata (setup.py) ... \u001b[?25l\u001b[?25hdone\n",
            "Building wheels for collected packages: wget\n",
            "  Building wheel for wget (setup.py) ... \u001b[?25l\u001b[?25hdone\n",
            "  Created wheel for wget: filename=wget-3.2-py3-none-any.whl size=9676 sha256=0b8004d1f667b7577503de1cce405ede4e71025f2a6f5c96d7457a45dcf46e7b\n",
            "  Stored in directory: /root/.cache/pip/wheels/8b/f1/7f/5c94f0a7a505ca1c81cd1d9208ae2064675d97582078e6c769\n",
            "Successfully built wget\n",
            "Installing collected packages: wget\n",
            "Successfully installed wget-3.2\n",
            "Looking in indexes: https://pypi.org/simple, https://us-python.pkg.dev/colab-wheels/public/simple/\n",
            "Requirement already satisfied: gdown in /usr/local/lib/python3.10/dist-packages (4.6.6)\n",
            "Requirement already satisfied: tqdm in /usr/local/lib/python3.10/dist-packages (from gdown) (4.65.0)\n",
            "Requirement already satisfied: filelock in /usr/local/lib/python3.10/dist-packages (from gdown) (3.12.0)\n",
            "Requirement already satisfied: six in /usr/local/lib/python3.10/dist-packages (from gdown) (1.16.0)\n",
            "Requirement already satisfied: beautifulsoup4 in /usr/local/lib/python3.10/dist-packages (from gdown) (4.11.2)\n",
            "Requirement already satisfied: requests[socks] in /usr/local/lib/python3.10/dist-packages (from gdown) (2.27.1)\n",
            "Requirement already satisfied: soupsieve>1.2 in /usr/local/lib/python3.10/dist-packages (from beautifulsoup4->gdown) (2.4.1)\n",
            "Requirement already satisfied: certifi>=2017.4.17 in /usr/local/lib/python3.10/dist-packages (from requests[socks]->gdown) (2022.12.7)\n",
            "Requirement already satisfied: urllib3<1.27,>=1.21.1 in /usr/local/lib/python3.10/dist-packages (from requests[socks]->gdown) (1.26.15)\n",
            "Requirement already satisfied: idna<4,>=2.5 in /usr/local/lib/python3.10/dist-packages (from requests[socks]->gdown) (3.4)\n",
            "Requirement already satisfied: charset-normalizer~=2.0.0 in /usr/local/lib/python3.10/dist-packages (from requests[socks]->gdown) (2.0.12)\n",
            "Requirement already satisfied: PySocks!=1.5.7,>=1.5.6 in /usr/local/lib/python3.10/dist-packages (from requests[socks]->gdown) (1.7.1)\n",
            "Looking in indexes: https://pypi.org/simple, https://us-python.pkg.dev/colab-wheels/public/simple/\n",
            "Requirement already satisfied: gdown in /usr/local/lib/python3.10/dist-packages (4.6.6)\n",
            "Collecting gdown\n",
            "  Downloading gdown-4.7.1-py3-none-any.whl (15 kB)\n",
            "Requirement already satisfied: beautifulsoup4 in /usr/local/lib/python3.10/dist-packages (from gdown) (4.11.2)\n",
            "Requirement already satisfied: six in /usr/local/lib/python3.10/dist-packages (from gdown) (1.16.0)\n",
            "Requirement already satisfied: requests[socks] in /usr/local/lib/python3.10/dist-packages (from gdown) (2.27.1)\n",
            "Requirement already satisfied: filelock in /usr/local/lib/python3.10/dist-packages (from gdown) (3.12.0)\n",
            "Requirement already satisfied: tqdm in /usr/local/lib/python3.10/dist-packages (from gdown) (4.65.0)\n",
            "Requirement already satisfied: soupsieve>1.2 in /usr/local/lib/python3.10/dist-packages (from beautifulsoup4->gdown) (2.4.1)\n",
            "Requirement already satisfied: idna<4,>=2.5 in /usr/local/lib/python3.10/dist-packages (from requests[socks]->gdown) (3.4)\n",
            "Requirement already satisfied: certifi>=2017.4.17 in /usr/local/lib/python3.10/dist-packages (from requests[socks]->gdown) (2022.12.7)\n",
            "Requirement already satisfied: charset-normalizer~=2.0.0 in /usr/local/lib/python3.10/dist-packages (from requests[socks]->gdown) (2.0.12)\n",
            "Requirement already satisfied: urllib3<1.27,>=1.21.1 in /usr/local/lib/python3.10/dist-packages (from requests[socks]->gdown) (1.26.15)\n",
            "Requirement already satisfied: PySocks!=1.5.7,>=1.5.6 in /usr/local/lib/python3.10/dist-packages (from requests[socks]->gdown) (1.7.1)\n",
            "Installing collected packages: gdown\n",
            "  Attempting uninstall: gdown\n",
            "    Found existing installation: gdown 4.6.6\n",
            "    Uninstalling gdown-4.6.6:\n",
            "      Successfully uninstalled gdown-4.6.6\n",
            "Successfully installed gdown-4.7.1\n"
          ]
        }
      ]
    },
    {
      "cell_type": "code",
      "source": [
        "import torch\n",
        "import torch.nn as nn\n",
        "import torch.nn.functional as F\n",
        "import numpy as np\n",
        "import random\n",
        "import torch.optim as optim\n",
        "from torch.autograd import Variable\n",
        "import os\n",
        "import gdown\n",
        "# import wandb\n",
        "from io import open\n",
        "import string, time, math\n",
        "import wget\n",
        "from zipfile import ZipFile\n",
        "import matplotlib.pyplot as plt\n",
        "import seaborn as sns\n",
        "from IPython.display import clear_output\n",
        "from torch.utils.data import Dataset\n",
        "import re"
      ],
      "metadata": {
        "id": "yPP3T6frM-uq"
      },
      "execution_count": 2,
      "outputs": []
    },
    {
      "cell_type": "code",
      "source": [
        "seed = 42\n",
        "np.random.seed(seed)\n",
        "random.seed(seed)\n",
        "torch.manual_seed(seed)\n",
        "# CUDA\n",
        "torch.cuda.manual_seed_all(seed)\n",
        "# torch.backends.cudnn.deterministic=True\n",
        "# torch.backends.cudnn.benchmark=False"
      ],
      "metadata": {
        "id": "QrFxXQDRVD5P"
      },
      "execution_count": 3,
      "outputs": []
    },
    {
      "cell_type": "code",
      "source": [
        "device_gpu = torch.device('cuda:0' if torch.cuda.is_available() else 'cpu')"
      ],
      "metadata": {
        "id": "CNoiOBN5NSoh"
      },
      "execution_count": 4,
      "outputs": []
    },
    {
      "cell_type": "code",
      "source": [
        "# Getting the Dataset\n",
        "url = 'https://drive.google.com/uc?id=1uRKU4as2NlS9i8sdLRS1e326vQRdhvfw&export=download'\n",
        "# filename = os.path.basename(url)\n",
        "# print(filename)\n",
        "\n",
        "if not os.path.exists(\"aksharantar_sampled\"):\n",
        "  filename = gdown.download(url = url, quiet=False, fuzzy=True)\n",
        "  print(filename)\n",
        "  with ZipFile(filename, 'r') as z:\n",
        "    print('Extracting files...')\n",
        "    z.extractall()\n",
        "    print('Done!')\n",
        "  os.remove(filename)"
      ],
      "metadata": {
        "id": "CqymbOGsQCSh",
        "colab": {
          "base_uri": "https://localhost:8080/"
        },
        "outputId": "56ea1f88-9449-4bb7-a42a-062220dacfdc"
      },
      "execution_count": 5,
      "outputs": [
        {
          "output_type": "stream",
          "name": "stderr",
          "text": [
            "Downloading...\n",
            "From: https://drive.google.com/uc?id=1uRKU4as2NlS9i8sdLRS1e326vQRdhvfw\n",
            "To: /content/aksharantar_sampled.zip\n",
            "100%|██████████| 14.0M/14.0M [00:00<00:00, 40.9MB/s]\n"
          ]
        },
        {
          "output_type": "stream",
          "name": "stdout",
          "text": [
            "aksharantar_sampled.zip\n",
            "Extracting files...\n",
            "Done!\n"
          ]
        }
      ]
    },
    {
      "cell_type": "code",
      "source": [
        "eng_alpha = 'ABCDEFGHIJKLMNOPQRSTUVWXYZ'\n",
        "pad_char = '<PAD>'\n",
        "\n",
        "eng_alpha2idx = {pad_char: 0}\n",
        "for index, alpha in enumerate(eng_alpha):\n",
        "  eng_alpha2idx[alpha] = index+1\n",
        "\n",
        "print(eng_alpha2idx)"
      ],
      "metadata": {
        "colab": {
          "base_uri": "https://localhost:8080/"
        },
        "id": "h3jjj7_pQphV",
        "outputId": "90cf79c6-ae56-488c-ab09-194c27a484a4"
      },
      "execution_count": 6,
      "outputs": [
        {
          "output_type": "stream",
          "name": "stdout",
          "text": [
            "{'<PAD>': 0, 'A': 1, 'B': 2, 'C': 3, 'D': 4, 'E': 5, 'F': 6, 'G': 7, 'H': 8, 'I': 9, 'J': 10, 'K': 11, 'L': 12, 'M': 13, 'N': 14, 'O': 15, 'P': 16, 'Q': 17, 'R': 18, 'S': 19, 'T': 20, 'U': 21, 'V': 22, 'W': 23, 'X': 24, 'Y': 25, 'Z': 26}\n"
          ]
        }
      ]
    },
    {
      "cell_type": "code",
      "source": [
        "# Change Indic Language here\n",
        "# indic_lang = 'ben'\n",
        "indic_lang = 'hin'"
      ],
      "metadata": {
        "id": "Ld_X-RaYMzCv"
      },
      "execution_count": 7,
      "outputs": []
    },
    {
      "cell_type": "code",
      "source": [
        "# Bengali Unicode Hex Range: 2432-2558\n",
        "# Hindi Unicode Hex Range: 2304-2431\n",
        "\n",
        "min_range = 2304\n",
        "max_range = 2431\n",
        "\n",
        "if indic_lang == 'ben':\n",
        "  min_range = 2432\n",
        "  max_range = 2558\n",
        "elif indic_lang == 'hindi':\n",
        "  min_range = 2304\n",
        "  max_range = 2431\n",
        "\n",
        "indic_alpha = [chr(alpha) for alpha in range(min_range, max_range + 1)]\n",
        "print(indic_alpha)\n",
        "indic_alpha_size = len(indic_alpha)\n",
        "\n",
        "indic_alpha2idx = {pad_char: 0}\n",
        "for index, alpha in enumerate(indic_alpha):\n",
        "  indic_alpha2idx[alpha] = index+1\n",
        "\n",
        "print(indic_alpha2idx)"
      ],
      "metadata": {
        "colab": {
          "base_uri": "https://localhost:8080/"
        },
        "id": "p0PjyADuTfHv",
        "outputId": "8efa86fa-2ea9-4eaa-9303-9f7fab2c4ba8"
      },
      "execution_count": 8,
      "outputs": [
        {
          "output_type": "stream",
          "name": "stdout",
          "text": [
            "['ऀ', 'ँ', 'ं', 'ः', 'ऄ', 'अ', 'आ', 'इ', 'ई', 'उ', 'ऊ', 'ऋ', 'ऌ', 'ऍ', 'ऎ', 'ए', 'ऐ', 'ऑ', 'ऒ', 'ओ', 'औ', 'क', 'ख', 'ग', 'घ', 'ङ', 'च', 'छ', 'ज', 'झ', 'ञ', 'ट', 'ठ', 'ड', 'ढ', 'ण', 'त', 'थ', 'द', 'ध', 'न', 'ऩ', 'प', 'फ', 'ब', 'भ', 'म', 'य', 'र', 'ऱ', 'ल', 'ळ', 'ऴ', 'व', 'श', 'ष', 'स', 'ह', 'ऺ', 'ऻ', '़', 'ऽ', 'ा', 'ि', 'ी', 'ु', 'ू', 'ृ', 'ॄ', 'ॅ', 'ॆ', 'े', 'ै', 'ॉ', 'ॊ', 'ो', 'ौ', '्', 'ॎ', 'ॏ', 'ॐ', '॑', '॒', '॓', '॔', 'ॕ', 'ॖ', 'ॗ', 'क़', 'ख़', 'ग़', 'ज़', 'ड़', 'ढ़', 'फ़', 'य़', 'ॠ', 'ॡ', 'ॢ', 'ॣ', '।', '॥', '०', '१', '२', '३', '४', '५', '६', '७', '८', '९', '॰', 'ॱ', 'ॲ', 'ॳ', 'ॴ', 'ॵ', 'ॶ', 'ॷ', 'ॸ', 'ॹ', 'ॺ', 'ॻ', 'ॼ', 'ॽ', 'ॾ', 'ॿ']\n",
            "{'<PAD>': 0, 'ऀ': 1, 'ँ': 2, 'ं': 3, 'ः': 4, 'ऄ': 5, 'अ': 6, 'आ': 7, 'इ': 8, 'ई': 9, 'उ': 10, 'ऊ': 11, 'ऋ': 12, 'ऌ': 13, 'ऍ': 14, 'ऎ': 15, 'ए': 16, 'ऐ': 17, 'ऑ': 18, 'ऒ': 19, 'ओ': 20, 'औ': 21, 'क': 22, 'ख': 23, 'ग': 24, 'घ': 25, 'ङ': 26, 'च': 27, 'छ': 28, 'ज': 29, 'झ': 30, 'ञ': 31, 'ट': 32, 'ठ': 33, 'ड': 34, 'ढ': 35, 'ण': 36, 'त': 37, 'थ': 38, 'द': 39, 'ध': 40, 'न': 41, 'ऩ': 42, 'प': 43, 'फ': 44, 'ब': 45, 'भ': 46, 'म': 47, 'य': 48, 'र': 49, 'ऱ': 50, 'ल': 51, 'ळ': 52, 'ऴ': 53, 'व': 54, 'श': 55, 'ष': 56, 'स': 57, 'ह': 58, 'ऺ': 59, 'ऻ': 60, '़': 61, 'ऽ': 62, 'ा': 63, 'ि': 64, 'ी': 65, 'ु': 66, 'ू': 67, 'ृ': 68, 'ॄ': 69, 'ॅ': 70, 'ॆ': 71, 'े': 72, 'ै': 73, 'ॉ': 74, 'ॊ': 75, 'ो': 76, 'ौ': 77, '्': 78, 'ॎ': 79, 'ॏ': 80, 'ॐ': 81, '॑': 82, '॒': 83, '॓': 84, '॔': 85, 'ॕ': 86, 'ॖ': 87, 'ॗ': 88, 'क़': 89, 'ख़': 90, 'ग़': 91, 'ज़': 92, 'ड़': 93, 'ढ़': 94, 'फ़': 95, 'य़': 96, 'ॠ': 97, 'ॡ': 98, 'ॢ': 99, 'ॣ': 100, '।': 101, '॥': 102, '०': 103, '१': 104, '२': 105, '३': 106, '४': 107, '५': 108, '६': 109, '७': 110, '८': 111, '९': 112, '॰': 113, 'ॱ': 114, 'ॲ': 115, 'ॳ': 116, 'ॴ': 117, 'ॵ': 118, 'ॶ': 119, 'ॷ': 120, 'ॸ': 121, 'ॹ': 122, 'ॺ': 123, 'ॻ': 124, 'ॼ': 125, 'ॽ': 126, 'ॾ': 127, 'ॿ': 128}\n"
          ]
        }
      ]
    },
    {
      "cell_type": "code",
      "source": [
        "indic_langs = sorted([indic_lang for indic_lang in os.listdir(\"aksharantar_sampled\") if indic_lang != '.DS_Store'])\n",
        "print(indic_langs)"
      ],
      "metadata": {
        "id": "RqbEtORMbreO",
        "colab": {
          "base_uri": "https://localhost:8080/"
        },
        "outputId": "e4ec7a9a-ee28-4dad-d042-1a2f8bd0c598"
      },
      "execution_count": 9,
      "outputs": [
        {
          "output_type": "stream",
          "name": "stdout",
          "text": [
            "['asm', 'ben', 'brx', 'guj', 'hin', 'kan', 'kas', 'kok', 'mai', 'mal', 'mar', 'mni', 'ori', 'pan', 'san', 'sid', 'tam', 'tel', 'urd']\n"
          ]
        }
      ]
    },
    {
      "cell_type": "code",
      "source": [
        "# X_train = []\n",
        "# y_train = []\n",
        "# data_train = []\n",
        "\n",
        "# X_val = []\n",
        "# y_val = []\n",
        "# data_val = []\n",
        "\n",
        "# X_test = []\n",
        "# y_test = []\n",
        "# data_test = []\n",
        "\n",
        "# with open(f'aksharantar_sampled/{indic_lang}/{indic_lang}_train.csv', 'r') as f_train:\n",
        "#   for line in f_train:\n",
        "#     line = line.split(',')\n",
        "#     eng_word = line[0].strip()\n",
        "#     indic_word = line[1].strip()\n",
        "#     X_train.append(eng_word)\n",
        "#     y_train.append(indic_word)\n",
        "#     data_train.append((eng_word, indic_word))\n",
        "\n",
        "# with open(f'aksharantar_sampled/{indic_lang}/{indic_lang}_valid.csv', 'r') as f_val:\n",
        "#   for line in f_val:\n",
        "#     line = line.split(',')\n",
        "#     eng_word = line[0].strip()\n",
        "#     indic_word = line[1].strip()\n",
        "#     X_val.append(eng_word)\n",
        "#     y_val.append(indic_word)\n",
        "#     data_val.append((eng_word, indic_word))\n",
        "\n",
        "# with open(f'aksharantar_sampled/{indic_lang}/{indic_lang}_test.csv', 'r') as f_test:\n",
        "#   for line in f_test:\n",
        "#     line = line.split(',')\n",
        "#     eng_word = line[0].strip()\n",
        "#     indic_word = line[1].strip()\n",
        "#     X_test.append(eng_word)\n",
        "#     y_test.append(indic_word)\n",
        "#     data_test.append((eng_word, indic_word))"
      ],
      "metadata": {
        "id": "k9xBvEb1XGtj"
      },
      "execution_count": null,
      "outputs": []
    },
    {
      "cell_type": "code",
      "source": [
        "# print(len(X_train), len(X_val), len(X_test))"
      ],
      "metadata": {
        "id": "HzWBX8ovXpeI"
      },
      "execution_count": null,
      "outputs": []
    },
    {
      "cell_type": "code",
      "source": [
        "# print(X_train[0].upper(), eng_rep(X_train[0].upper(), eng_alpha2idx))\n",
        "\n",
        "# non_eng_letters_regex = re.compile('[^a-zA-Z ]')\n",
        "\n",
        "# # Remove all English non-letters\n",
        "# def cleanEnglishVocab(line):\n",
        "#   line = line.upper\n",
        "\n",
        "# def cleanHindiVocab(line):\n",
        "#   pass"
      ],
      "metadata": {
        "id": "fWAR7_-kaf6M"
      },
      "execution_count": null,
      "outputs": []
    },
    {
      "cell_type": "code",
      "source": [
        "class TransLit_DataLoader(Dataset):\n",
        "  def __init__(self, filename):\n",
        "    self.eng_lang_words, self.indic_lang_words = self.readDataset(filename)\n",
        "    self.shuffle_indices = list(range(len(self.eng_lang_words)))\n",
        "    random.shuffle(self.shuffle_indices)\n",
        "    self.shuffle_start_index = 0\n",
        "\n",
        "  def __len__(self):\n",
        "    return len(self.eng_lang_words)\n",
        "\n",
        "  def __getitem__(self, idx):\n",
        "    return self.eng_lang_words[idx], self.indic_lang_words[idx]\n",
        "\n",
        "  def readDataset(self, filename):\n",
        "    X = []\n",
        "    y = []\n",
        "    # data = []\n",
        "\n",
        "    with open(filename, 'r') as f:\n",
        "      for line in f:\n",
        "        line = line.split(',')\n",
        "        eng_word = line[0].strip()\n",
        "        indic_word = line[1].strip()\n",
        "        X.append(eng_word)\n",
        "        y.append(indic_word)\n",
        "        # data_train.append((eng_word, indic_word))\n",
        "    return X, y\n",
        "\n",
        "  def get_random_sample(self):\n",
        "    return self.__getitem__(np.random.randint(len(self.eng_lang_words)))\n",
        "\n",
        "  def get_batch_from_array(self, batch_size, array):\n",
        "    end = self.shuffle_start_index + batch_size\n",
        "    batch = []\n",
        "    if end >= len(self.eng_lang_words):\n",
        "      batch = [array[i] for i in self.shuffle_indices[0:end%len(self.eng_lang_words)]]\n",
        "    return batch + [array[i] for i in self.shuffle_indices[self.shuffle_start_index:end]]\n",
        "\n",
        "  def get_batch(self, batch_size, postprocess = True):\n",
        "    eng_lang_batch = self.get_batch_from_array(batch_size, self.eng_lang_words)\n",
        "    indic_lang_batch = self.get_batch_from_array(batch_size, self.indic_lang_words)\n",
        "    self.shuffle_start_index += batch_size + 1\n",
        "\n",
        "    # Reshuffle if 1 epoch is complete\n",
        "    if self.shuffle_start_index >= len(self.eng_lang_words):\n",
        "      random.shuffle(self.shuffle_indices)\n",
        "      self.shuffle_start_index = 0\n",
        "\n",
        "    return eng_lang_batch, indic_lang_batch\n"
      ],
      "metadata": {
        "id": "gFsAOp2ofCB6"
      },
      "execution_count": 10,
      "outputs": []
    },
    {
      "cell_type": "code",
      "source": [
        "data_train = TransLit_DataLoader(f'aksharantar_sampled/{indic_lang}/{indic_lang}_train.csv')\n",
        "data_val = TransLit_DataLoader(f'aksharantar_sampled/{indic_lang}/{indic_lang}_valid.csv')\n",
        "data_test = TransLit_DataLoader(f'aksharantar_sampled/{indic_lang}/{indic_lang}_test.csv')"
      ],
      "metadata": {
        "id": "Sd0QaLZfvc9S"
      },
      "execution_count": 11,
      "outputs": []
    },
    {
      "cell_type": "code",
      "source": [
        "# data_train.get_random_sample()"
      ],
      "metadata": {
        "id": "nvSXfZdo0VIZ"
      },
      "execution_count": null,
      "outputs": []
    },
    {
      "cell_type": "code",
      "source": [
        "# data_train.get_batch(8)"
      ],
      "metadata": {
        "id": "bSHytGfe1xRx"
      },
      "execution_count": null,
      "outputs": []
    },
    {
      "cell_type": "code",
      "source": [
        "# Basic Data Visualization\n",
        "print('Train Set Size: ', len(data_train))\n",
        "print('Validation Set Size: ', len(data_val))\n",
        "print('Test Set Size: ', len(data_test))\n",
        "eng, indic = data_train.get_random_sample()\n",
        "print(f'Sample data from Train Set: \\n{eng} - {indic}')"
      ],
      "metadata": {
        "colab": {
          "base_uri": "https://localhost:8080/"
        },
        "id": "umwecEOR1d20",
        "outputId": "e81b0eb1-e44c-45c7-eb20-3d9c6bc815e8"
      },
      "execution_count": 12,
      "outputs": [
        {
          "output_type": "stream",
          "name": "stdout",
          "text": [
            "Train Set Size:  51200\n",
            "Validation Set Size:  4096\n",
            "Test Set Size:  4096\n",
            "Sample data from Train Set: \n",
            "agricultule - एग्रीकल्चल\n"
          ]
        }
      ]
    },
    {
      "cell_type": "code",
      "source": [
        "# Encoding words\n",
        "\n",
        "def eng_rep(eng_word, letter2idx, device = 'cpu'):\n",
        "  eng_word = eng_word.upper()\n",
        "  rep = torch.zeros(len(eng_word) + 1, 1, len(letter2idx)).to(device)\n",
        "  for letter_idx, letter in enumerate(eng_word):\n",
        "    pos = letter2idx[letter]\n",
        "    rep[letter_idx][0][pos] = 1\n",
        "  pad_pos = letter2idx[pad_char]\n",
        "  rep[letter_idx+1][0][pad_pos] = 1\n",
        "  return rep\n",
        "\n",
        "def gt_rep(indic_word, letter2idx, device = 'cpu'):\n",
        "  gt_rep = torch.zeros([len(indic_word) + 1, 1], dtype = torch.long).to(device)\n",
        "  for letter_idx, letter in enumerate(indic_word):\n",
        "    pos = letter2idx[letter]\n",
        "    gt_rep[letter_idx][0] = pos\n",
        "  gt_rep[letter_idx+1][0] = letter2idx[pad_char]\n",
        "  return gt_rep"
      ],
      "metadata": {
        "id": "tRhk67PhZpPS"
      },
      "execution_count": 13,
      "outputs": []
    },
    {
      "cell_type": "code",
      "source": [
        "# Visualization of Encoded Words for English and Indic Language\n",
        "eng_word, indic_word = data_train.get_random_sample()\n",
        "eng_word_rep = eng_rep(eng_word, eng_alpha2idx)\n",
        "indic_word_rep = gt_rep(indic_word, indic_alpha2idx)\n",
        "print(eng_word, eng_word_rep)\n",
        "print(indic_word, indic_word_rep)\n",
        "print(eng_word_rep.shape, indic_word_rep.shape)"
      ],
      "metadata": {
        "colab": {
          "base_uri": "https://localhost:8080/"
        },
        "id": "SgqucCjcvfIR",
        "outputId": "1deaf7c3-feb2-412c-a030-3c3b67f60367"
      },
      "execution_count": 14,
      "outputs": [
        {
          "output_type": "stream",
          "name": "stdout",
          "text": [
            "mhilaaon tensor([[[0., 0., 0., 0., 0., 0., 0., 0., 0., 0., 0., 0., 0., 1., 0., 0., 0.,\n",
            "          0., 0., 0., 0., 0., 0., 0., 0., 0., 0.]],\n",
            "\n",
            "        [[0., 0., 0., 0., 0., 0., 0., 0., 1., 0., 0., 0., 0., 0., 0., 0., 0.,\n",
            "          0., 0., 0., 0., 0., 0., 0., 0., 0., 0.]],\n",
            "\n",
            "        [[0., 0., 0., 0., 0., 0., 0., 0., 0., 1., 0., 0., 0., 0., 0., 0., 0.,\n",
            "          0., 0., 0., 0., 0., 0., 0., 0., 0., 0.]],\n",
            "\n",
            "        [[0., 0., 0., 0., 0., 0., 0., 0., 0., 0., 0., 0., 1., 0., 0., 0., 0.,\n",
            "          0., 0., 0., 0., 0., 0., 0., 0., 0., 0.]],\n",
            "\n",
            "        [[0., 1., 0., 0., 0., 0., 0., 0., 0., 0., 0., 0., 0., 0., 0., 0., 0.,\n",
            "          0., 0., 0., 0., 0., 0., 0., 0., 0., 0.]],\n",
            "\n",
            "        [[0., 1., 0., 0., 0., 0., 0., 0., 0., 0., 0., 0., 0., 0., 0., 0., 0.,\n",
            "          0., 0., 0., 0., 0., 0., 0., 0., 0., 0.]],\n",
            "\n",
            "        [[0., 0., 0., 0., 0., 0., 0., 0., 0., 0., 0., 0., 0., 0., 0., 1., 0.,\n",
            "          0., 0., 0., 0., 0., 0., 0., 0., 0., 0.]],\n",
            "\n",
            "        [[0., 0., 0., 0., 0., 0., 0., 0., 0., 0., 0., 0., 0., 0., 1., 0., 0.,\n",
            "          0., 0., 0., 0., 0., 0., 0., 0., 0., 0.]],\n",
            "\n",
            "        [[1., 0., 0., 0., 0., 0., 0., 0., 0., 0., 0., 0., 0., 0., 0., 0., 0.,\n",
            "          0., 0., 0., 0., 0., 0., 0., 0., 0., 0.]]])\n",
            "म्हिलाओं tensor([[47],\n",
            "        [78],\n",
            "        [58],\n",
            "        [64],\n",
            "        [51],\n",
            "        [63],\n",
            "        [20],\n",
            "        [ 3],\n",
            "        [ 0]])\n",
            "torch.Size([9, 1, 27]) torch.Size([9, 1])\n"
          ]
        }
      ]
    },
    {
      "cell_type": "code",
      "source": [
        "def infer(net, word,max_output_chars, device='cpu'):\n",
        "    net.eval().to(device)\n",
        "    word_ohe = eng_rep(word, eng_alpha2idx)\n",
        "    output = net(word_ohe, max_output_chars)\n",
        "    return output"
      ],
      "metadata": {
        "id": "mwfo3R5ccFE4"
      },
      "execution_count": 15,
      "outputs": []
    },
    {
      "cell_type": "code",
      "source": [
        "MAX_OUTPUT_CHARS = 30\n",
        "\n",
        "class GRU_EncDec(nn.Module):\n",
        "\n",
        "  def __init__(self, input_size, hidden_size, output_size, verbose=False):\n",
        "    super(GRU_EncDec, self).__init__()\n",
        "\n",
        "    self.hidden_size = hidden_size\n",
        "    self.output_size = output_size\n",
        "\n",
        "    self.encoder_rnn_cell = nn.GRU(input_size, hidden_size)\n",
        "    self.decoder_rnn_cell = nn.GRU(output_size, hidden_size)\n",
        "\n",
        "    self.h2o = nn.Linear(hidden_size, output_size)\n",
        "    self.softmax = nn.LogSoftmax(dim=2)\n",
        "\n",
        "    self.verbose = verbose\n",
        "\n",
        "  def forward(self, input, max_output_chars = MAX_OUTPUT_CHARS, device = 'cpu', ground_truth = None):\n",
        "\n",
        "    # Encoder\n",
        "    out, hidden = self.encoder_rnn_cell(input)\n",
        "\n",
        "    if self.verbose:\n",
        "      print('Encoder input', input.shape)\n",
        "      print('Encoder output', out.shape)\n",
        "      print('Encoder hidden', hidden.shape)\n",
        "\n",
        "    # Decoder\n",
        "    decoder_state = hidden\n",
        "    decoder_input = torch.zeros(1,1,self.output_size).to(device)\n",
        "    outputs = []\n",
        "\n",
        "    if self.verbose:\n",
        "      print('Decoder state', decoder_state.shape)\n",
        "      print('Decoder input', decoder_input.shape)\n",
        "\n",
        "    for i in range(max_output_chars):\n",
        "      out, decoder_state = self.decoder_rnn_cell(decoder_input, decoder_state)\n",
        "\n",
        "      if self.verbose:\n",
        "        print('Decoder intermediate output', out.shape)\n",
        "\n",
        "      out = self.h2o(decoder_state)\n",
        "      out = self.softmax(out)\n",
        "      outputs.append(out.view(1,-1))\n",
        "\n",
        "      if self.verbose:\n",
        "        print('Decoder output', out.shape)\n",
        "        self.verbose = False\n",
        "\n",
        "      max_idx = torch.argmax(out,2,keepdim = True)\n",
        "\n",
        "      if not ground_truth is None:\n",
        "        max_idx = ground_truth[i].reshape(1,1,1)\n",
        "      \n",
        "      one_hot = torch.FloatTensor(out.shape).to(device)\n",
        "      one_hot.zero_()\n",
        "      one_hot.scatter_(2,max_idx,1)\n",
        "\n",
        "      decoder_input = one_hot.detach()\n",
        "    return outputs\n",
        "    "
      ],
      "metadata": {
        "id": "ZzYv9-FiIRaO"
      },
      "execution_count": 147,
      "outputs": []
    },
    {
      "cell_type": "code",
      "source": [
        "# MAX_OUTPUT_CHARS = 30\n",
        "\n",
        "# class GRU_EncDec(nn.Module):\n",
        "\n",
        "#   def __init__(self, input_size, hidden_size, output_size, attn=False, verbose=False):\n",
        "#     super(GRU_EncDec, self).__init__()\n",
        "\n",
        "#     self.hidden_size = hidden_size\n",
        "#     self.output_size = output_size\n",
        "#     self.attn = attn\n",
        "\n",
        "#     self.encoder_rnn_cell = nn.GRU(input_size, hidden_size)\n",
        "#     if self.attn:\n",
        "#       self.decoder_rnn_cell = nn.GRU(hidden_size*2, hidden_size)\n",
        "#     else:\n",
        "#       self.decoder_rnn_cell = nn.GRU(output_size, hidden_size)\n",
        "\n",
        "#     self.h2o = nn.Linear(hidden_size, output_size)\n",
        "#     self.softmax = nn.LogSoftmax(dim=2)\n",
        "\n",
        "#     if self.attn:\n",
        "#       self.U = nn.Linear(self.hidden_size, self.hidden_size)\n",
        "#       self.W = nn.Linear(self.hidden_size, self.hidden_size)\n",
        "#       self.attn_layer = nn.Linear(self.hidden_size, 1)\n",
        "#       self.out2hidden = nn.Linear(self.output_size, self.hidden_size)\n",
        "\n",
        "#     self.verbose = verbose\n",
        "\n",
        "#   def forward(self, input, max_output_chars = MAX_OUTPUT_CHARS, device = 'cpu', ground_truth = None):\n",
        "\n",
        "#     # Encoder\n",
        "#     if self.attn:\n",
        "#       encoder_outputs, hidden = self.encoder_rnn_cell(input)\n",
        "#       encoder_outputs = encoder_outputs.view(-1, self.hidden_size)\n",
        "#     else:\n",
        "#       out, hidden = self.encoder_rnn_cell(input)\n",
        "\n",
        "#     if self.verbose:\n",
        "#       print('Encoder input', input.shape)\n",
        "#       if self.attn:\n",
        "#         print('Encoder output', encoder_outputs.shape)\n",
        "#       else:\n",
        "#         print('Encoder output', out.shape)\n",
        "#       print('Encoder hidden', hidden.shape)\n",
        "\n",
        "#     # Decoder\n",
        "#     decoder_state = hidden\n",
        "#     decoder_input = torch.zeros(1,1,self.output_size).to(device)\n",
        "#     outputs = []\n",
        "\n",
        "#     if self.attn:\n",
        "#       U = self.U(encoder_outputs)\n",
        "\n",
        "#     if self.verbose:\n",
        "#       print('Decoder state', decoder_state.shape)\n",
        "#       if self.attn:\n",
        "#         print('Decoder intermediate input', decoder_input.shape)\n",
        "#         print('U*Encoder output', U.shape)\n",
        "#       else:\n",
        "#         print('Decoder input', decoder_input.shape)\n",
        "\n",
        "#     for i in range(max_output_chars):\n",
        "#       if self.attn:\n",
        "#         W = self.W(decoder_state.view(1,-1).repeat(encoder_outputs.shape[0],1))\n",
        "#         V = self.attn_layer(torch.tanh(U+W))\n",
        "\n",
        "#         attn_weights = F.softmax(V.view(1,-1), dim=1)\n",
        "\n",
        "#         if self.verbose:\n",
        "#           print('W*Decoder state', W.shape)\n",
        "#           print('V', V.shape)\n",
        "#           print('Attn_Layer', attn_weights.shape)\n",
        "\n",
        "#         attn_applied = torch.bmm(attn_weights.unsqueeze(0), encoder_outputs.unsqueeze(0))\n",
        "\n",
        "#         embedding = self.out2hidden(decoder_input)\n",
        "#         decoder_input = torch.cat((embedding[0], attn_applied[0]), 1)\n",
        "\n",
        "#         if self.verbose:\n",
        "#           print('Attn LC', attn_applied.shape)\n",
        "#           print('Decoder input', decoder_input.shape)\n",
        "\n",
        "#       out, decoder_state = self.decoder_rnn_cell(decoder_input, decoder_state)\n",
        "\n",
        "#       if self.verbose:\n",
        "#         print('Decoder intermediate output', out.shape)\n",
        "\n",
        "#       out = self.h2o(decoder_state)\n",
        "#       out = self.softmax(out)\n",
        "#       outputs.append(out.view(1,-1))\n",
        "\n",
        "#       if self.verbose:\n",
        "#         print('Decoder output', out.shape)\n",
        "#         self.verbose = False\n",
        "\n",
        "#       max_idx = torch.argmax(out,2,keepdim = True)\n",
        "\n",
        "#       if not ground_truth is None:\n",
        "#         max_idx = ground_truth[i].reshape(1,1,1)\n",
        "      \n",
        "#       one_hot = torch.FloatTensor(out.shape).to(device)\n",
        "#       # one_hot.zero_() ?\n",
        "#       one_hot.scatter_(2,max_idx,1)\n",
        "\n",
        "#       decoder_input = one_hot.detach()\n",
        "#     return outputs"
      ],
      "metadata": {
        "id": "8bAgntsZaW2Z"
      },
      "execution_count": 135,
      "outputs": []
    },
    {
      "cell_type": "code",
      "source": [
        "# net = GRU_EncDec(len(eng_alpha2idx), 1024, len(indic_alpha2idx), verbose=True)"
      ],
      "metadata": {
        "id": "2uBe-EtULVrT"
      },
      "execution_count": 136,
      "outputs": []
    },
    {
      "cell_type": "code",
      "source": [
        "# out = infer(net, 'india', 30)"
      ],
      "metadata": {
        "id": "5QsW-1M3b-I2",
        "colab": {
          "base_uri": "https://localhost:8080/"
        },
        "outputId": "b13815fe-7f04-4d81-e420-fe5cdd420314"
      },
      "execution_count": 137,
      "outputs": [
        {
          "output_type": "stream",
          "name": "stdout",
          "text": [
            "Encoder input torch.Size([6, 1, 27])\n",
            "Encoder output torch.Size([6, 1, 1024])\n",
            "Encoder hidden torch.Size([1, 1, 1024])\n",
            "Decoder state torch.Size([1, 1, 1024])\n",
            "Decoder input torch.Size([1, 1, 129])\n",
            "Decoder intermediate output torch.Size([1, 1, 1024])\n",
            "Decoder output torch.Size([1, 1, 129])\n"
          ]
        }
      ]
    },
    {
      "cell_type": "code",
      "source": [
        "def train_batch(net, opt, criterion, batch_size, device = 'cpu', teacher_force = False):\n",
        "    \n",
        "    net.train().to(device)\n",
        "    opt.zero_grad()\n",
        "    eng_batch, hindi_batch = data_train.get_batch(batch_size)\n",
        "    \n",
        "    total_loss = 0\n",
        "    for i in range(batch_size):\n",
        "        \n",
        "        input = eng_rep(eng_batch[i], eng_alpha2idx, device)\n",
        "        gt = gt_rep(hindi_batch[i], indic_alpha2idx, device)\n",
        "        outputs = net(input, gt.shape[0], device, ground_truth = gt if teacher_force else None)\n",
        "        \n",
        "        for index, output in enumerate(outputs):\n",
        "            loss = criterion(output, gt[index]) / batch_size\n",
        "            loss.backward(retain_graph = True)\n",
        "            total_loss += loss\n",
        "        \n",
        "    opt.step()\n",
        "    return total_loss/batch_size"
      ],
      "metadata": {
        "id": "roXtf-ZxcBWs"
      },
      "execution_count": 148,
      "outputs": []
    },
    {
      "cell_type": "code",
      "source": [
        "def train_setup(net, lr = 0.01, n_batches = 100, batch_size = 10, momentum = 0.9, display_freq=5, device = 'cpu'):\n",
        "    \n",
        "    net = net.to(device)\n",
        "    criterion = nn.NLLLoss(ignore_index = -1)\n",
        "    opt = optim.Adam(net.parameters(), lr=lr)\n",
        "    teacher_force_upto = n_batches//3\n",
        "    \n",
        "    loss_arr = np.zeros(n_batches + 1)\n",
        "    # (loss_val, batch_ret) =  )\n",
        "    # eng_batch, indic_batch = data_val.get_batch(batch_size)\n",
        "    for i in range(n_batches):\n",
        "        loss_arr[i+1] = (loss_arr[i]*i + train_batch(net, opt, criterion, batch_size, device = device, teacher_force = i<teacher_force_upto) )/(i + 1)\n",
        "        \n",
        "        if i%display_freq == display_freq-1:\n",
        "            clear_output(wait=True)\n",
        "            \n",
        "            print('Iteration', i, 'Loss', loss_arr[i], 'Validation Accuracy: ', calc_word_accuracy(net, data=data_val))\n",
        "            plt.figure()\n",
        "            plt.plot(loss_arr[1:i], '-*')\n",
        "            plt.xlabel('Iteration')\n",
        "            plt.ylabel('Loss')\n",
        "            plt.show()\n",
        "            print('\\n\\n')\n",
        "            \n",
        "            torch.save(net.state_dict(), f'{indic_lang}_model.pth')\n",
        "    return loss_arr"
      ],
      "metadata": {
        "id": "GyZrdrM6e66Z"
      },
      "execution_count": 149,
      "outputs": []
    },
    {
      "cell_type": "code",
      "source": [
        "net = GRU_EncDec(len(eng_alpha2idx), 512, len(indic_alpha2idx))"
      ],
      "metadata": {
        "id": "o-M2ZFWAfD-y"
      },
      "execution_count": 150,
      "outputs": []
    },
    {
      "cell_type": "code",
      "source": [
        "%%time\n",
        "train_setup(net, lr=0.001, n_batches=1500, batch_size = 64, display_freq=100, device = device_gpu)"
      ],
      "metadata": {
        "colab": {
          "base_uri": "https://localhost:8080/",
          "height": 540
        },
        "id": "olNNZlZSfIvF",
        "outputId": "e4883135-aab2-4191-a552-913a3f84ac6e"
      },
      "execution_count": null,
      "outputs": [
        {
          "output_type": "stream",
          "name": "stdout",
          "text": [
            "0\n",
            "Iteration 299 Loss 0.4087764322757721 Validation Accuracy:  0.0\n"
          ]
        },
        {
          "output_type": "display_data",
          "data": {
            "text/plain": [
              "<Figure size 640x480 with 1 Axes>"
            ],
            "image/png": "[encoded data removed]"
          },
          "metadata": {}
        },
        {
          "output_type": "stream",
          "name": "stdout",
          "text": [
            "\n",
            "\n",
            "\n"
          ]
        }
      ]
    },
    {
      "cell_type": "code",
      "source": [
        "def calc_accuracy(net, device = 'cpu', data = data_val):\n",
        "    net = net.eval().to(device)\n",
        "    predictions = []\n",
        "    accuracy = 0\n",
        "    count = 0\n",
        "    for i in range(len(data)):\n",
        "        eng_word, indic_word = data[i]\n",
        "        gt = gt_rep(indic_word, indic_alpha2idx, device)\n",
        "        outputs = infer(net, eng_word, gt.shape[0], device)\n",
        "        correct = 0\n",
        "        for index, out in enumerate(outputs):\n",
        "            val, indices = out.topk(1)\n",
        "            \n",
        "            indic_pos = indices.tolist()[0]\n",
        "            if indic_pos[0] == gt[index][0]:\n",
        "              correct += 1\n",
        "            \n",
        "        accuracy += correct/gt.shape[0]\n",
        "    accuracy /= len(data)\n",
        "        \n",
        "    #     char_level_acc = correct/(gt.shape[0]-1)\n",
        "    #     indic_word_pred = get_indic_pred_word(net, eng_word)\n",
        "        \n",
        "    #     # print(correct, gt.shape[0]-1)\n",
        "    #     # break\n",
        "    #     # print(char_level_acc)\n",
        "        \n",
        "    #     if char_level_acc == 1.0:\n",
        "    #       count += 1\n",
        "    #       print(count)\n",
        "    #       print(f'{eng_word}-{indic_word}-{indic_word_pred}')\n",
        "    #       # accuracy += char_level_acc\n",
        "    # print(len(data))\n",
        "    # accuracy = count/len(data)\n",
        "    \n",
        "    return accuracy"
      ],
      "metadata": {
        "id": "YPBFSUsFfnoT"
      },
      "execution_count": 58,
      "outputs": []
    },
    {
      "cell_type": "code",
      "source": [
        "new_net = GRU_EncDec(len(eng_alpha2idx), 256, len(indic_alpha2idx), verbose=False)\n",
        "new_net.load_state_dict(torch.load(f'{indic_lang}_model.pth'))"
      ],
      "metadata": {
        "id": "ytsbUKvsINRm",
        "colab": {
          "base_uri": "https://localhost:8080/"
        },
        "outputId": "d2286b68-24dc-4eb7-9d1d-414f02ebf2e6"
      },
      "execution_count": 62,
      "outputs": [
        {
          "output_type": "execute_result",
          "data": {
            "text/plain": [
              "<All keys matched successfully>"
            ]
          },
          "metadata": {},
          "execution_count": 62
        }
      ]
    },
    {
      "cell_type": "code",
      "source": [
        "def get_indic_pred_word(net, eng_word, device = 'cpu'):\n",
        "    net = net.eval().to(device)\n",
        "    outputs = infer(net, eng_word, 30, device)\n",
        "    # print(outputs)\n",
        "    indic_output = ''\n",
        "    for index, out in enumerate(outputs):\n",
        "      # print(index)\n",
        "      val, indices = out.topk(1)\n",
        "      # print(val)\n",
        "      index = indices.tolist()[0][0]\n",
        "      # print(index)\n",
        "      if index == 0:\n",
        "          break\n",
        "      indic_char = indic_alpha[index+1]\n",
        "      # print(indic_char)\n",
        "      indic_output += indic_char\n",
        "    # print(eng_word + ' - ' + indic_output)\n",
        "    return indic_output"
      ],
      "metadata": {
        "id": "QtI0ht9YfTWy"
      },
      "execution_count": 70,
      "outputs": []
    },
    {
      "cell_type": "code",
      "source": [
        "indic_alpha.index('ॿ')"
      ],
      "metadata": {
        "colab": {
          "base_uri": "https://localhost:8080/"
        },
        "id": "K--Il6VuypPT",
        "outputId": "a830ac10-ce08-42a7-d37e-2fabe0fccf22"
      },
      "execution_count": 107,
      "outputs": [
        {
          "output_type": "execute_result",
          "data": {
            "text/plain": [
              "127"
            ]
          },
          "metadata": {},
          "execution_count": 107
        }
      ]
    },
    {
      "cell_type": "code",
      "source": [
        "def calc_word_accuracy(net, device = 'cpu', data = data_val):\n",
        "    net = net.eval().to(device)\n",
        "    predictions = []\n",
        "    accuracy = 0\n",
        "    count = 0\n",
        "    for i in range(len(data)):\n",
        "        eng_word, indic_word = data[i]\n",
        "        gt = gt_rep(indic_word, indic_alpha2idx, device)\n",
        "\n",
        "        outputs = infer(net, eng_word, gt.shape[0], device)\n",
        "        correct = 0\n",
        "        indic_output = ''\n",
        "\n",
        "\n",
        "        for index, out in enumerate(outputs):\n",
        "                val, indices = out.topk(1)\n",
        "                \n",
        "                indic_pos = indices.tolist()[0]\n",
        "                # print(indic_pos)\n",
        "                \n",
        "                if indic_pos[0] == gt[index][0]:\n",
        "                  correct += 1\n",
        "                  if indic_pos[0] != 0:\n",
        "                    indic_output += indic_alpha[indic_pos[0]-1]\n",
        "\n",
        "        \n",
        "        char_level_acc = correct/gt.shape[0]\n",
        "\n",
        "        # if index ==2:\n",
        "        #   break\n",
        "        \n",
        "        if char_level_acc == 1.0:\n",
        "          count += 1\n",
        "          # print(f'{eng_word}-{indic_word}-{indic_output}')\n",
        "    print(count)\n",
        "    accuracy = count/len(data)\n",
        "    \n",
        "    return accuracy"
      ],
      "metadata": {
        "id": "JGX6eb9RmQuN"
      },
      "execution_count": 143,
      "outputs": []
    },
    {
      "cell_type": "code",
      "source": [
        "accuracy_val = calc_word_accuracy(new_net, data=data_test) * 100\n",
        "# print(indic_alpha2idx)\n",
        "print('Validation Accuracy w/o attention ', accuracy_val)\n"
      ],
      "metadata": {
        "id": "oGCoM3DwNygZ",
        "colab": {
          "base_uri": "https://localhost:8080/"
        },
        "outputId": "1bd85450-0e73-438f-a83d-a33b315eb7e4"
      },
      "execution_count": 134,
      "outputs": [
        {
          "output_type": "stream",
          "name": "stdout",
          "text": [
            "263\n",
            "Validation Accuracy w/o attention  6.4208984375\n"
          ]
        }
      ]
    },
    {
      "cell_type": "code",
      "source": [
        "%%time\n",
        "# new_net = GRU_EncDec(len(eng_alpha2idx), 256, len(indic_alpha2idx), verbose=True)\n",
        "# new_net.load_state_dict(torch.load(\"model.pth\"))\n",
        "accuracy_train = calc_accuracy(new_net, data=data_train) * 100\n",
        "print('Train Accuracy w/o attention ', accuracy_train)\n",
        "accuracy_test = calc_accuracy(new_net, data=data_test) * 100\n",
        "\n",
        "# accuracy_attn = calc_accuracy(net_att) * 100\n",
        "print('Test Accuracy w/o attention ', accuracy_test)\n",
        "# print('Acurracy with attention', accuracy_attn)"
      ],
      "metadata": {
        "id": "2Z3SjQ92fpsR",
        "colab": {
          "base_uri": "https://localhost:8080/",
          "height": 417
        },
        "outputId": "82ad0b96-5ae1-4a6d-a0b4-d5489592b772"
      },
      "execution_count": null,
      "outputs": [
        {
          "output_type": "error",
          "ename": "KeyboardInterrupt",
          "evalue": "ignored",
          "traceback": [
            "\u001b[0;31m---------------------------------------------------------------------------\u001b[0m",
            "\u001b[0;31mKeyboardInterrupt\u001b[0m                         Traceback (most recent call last)",
            "\u001b[0;32m<timed exec>\u001b[0m in \u001b[0;36m<module>\u001b[0;34m\u001b[0m\n",
            "\u001b[0;32m<ipython-input-84-d10bd16d6393>\u001b[0m in \u001b[0;36mcalc_accuracy\u001b[0;34m(net, device, data, k)\u001b[0m\n\u001b[1;32m      6\u001b[0m         \u001b[0meng_word\u001b[0m\u001b[0;34m,\u001b[0m \u001b[0mindic_word\u001b[0m \u001b[0;34m=\u001b[0m \u001b[0mdata\u001b[0m\u001b[0;34m[\u001b[0m\u001b[0mi\u001b[0m\u001b[0;34m]\u001b[0m\u001b[0;34m\u001b[0m\u001b[0;34m\u001b[0m\u001b[0m\n\u001b[1;32m      7\u001b[0m         \u001b[0mgt\u001b[0m \u001b[0;34m=\u001b[0m \u001b[0mgt_rep\u001b[0m\u001b[0;34m(\u001b[0m\u001b[0mindic_word\u001b[0m\u001b[0;34m,\u001b[0m \u001b[0mindic_alpha2idx\u001b[0m\u001b[0;34m,\u001b[0m \u001b[0mdevice\u001b[0m\u001b[0;34m)\u001b[0m\u001b[0;34m\u001b[0m\u001b[0;34m\u001b[0m\u001b[0m\n\u001b[0;32m----> 8\u001b[0;31m         \u001b[0moutputs\u001b[0m \u001b[0;34m=\u001b[0m \u001b[0minfer\u001b[0m\u001b[0;34m(\u001b[0m\u001b[0mnet\u001b[0m\u001b[0;34m,\u001b[0m \u001b[0meng_word\u001b[0m\u001b[0;34m,\u001b[0m \u001b[0mgt\u001b[0m\u001b[0;34m.\u001b[0m\u001b[0mshape\u001b[0m\u001b[0;34m[\u001b[0m\u001b[0;36m0\u001b[0m\u001b[0;34m]\u001b[0m\u001b[0;34m,\u001b[0m \u001b[0mdevice\u001b[0m\u001b[0;34m)\u001b[0m\u001b[0;34m\u001b[0m\u001b[0;34m\u001b[0m\u001b[0m\n\u001b[0m\u001b[1;32m      9\u001b[0m         \u001b[0;31m# print(len(outputs))\u001b[0m\u001b[0;34m\u001b[0m\u001b[0;34m\u001b[0m\u001b[0m\n\u001b[1;32m     10\u001b[0m         \u001b[0mcorrect\u001b[0m \u001b[0;34m=\u001b[0m \u001b[0;36m0\u001b[0m\u001b[0;34m\u001b[0m\u001b[0;34m\u001b[0m\u001b[0m\n",
            "\u001b[0;32m<ipython-input-80-dce3face66a4>\u001b[0m in \u001b[0;36minfer\u001b[0;34m(net, word, max_output_chars, device)\u001b[0m\n\u001b[1;32m      2\u001b[0m     \u001b[0mnet\u001b[0m\u001b[0;34m.\u001b[0m\u001b[0meval\u001b[0m\u001b[0;34m(\u001b[0m\u001b[0;34m)\u001b[0m\u001b[0;34m.\u001b[0m\u001b[0mto\u001b[0m\u001b[0;34m(\u001b[0m\u001b[0mdevice\u001b[0m\u001b[0;34m)\u001b[0m\u001b[0;34m\u001b[0m\u001b[0;34m\u001b[0m\u001b[0m\n\u001b[1;32m      3\u001b[0m     \u001b[0mword_ohe\u001b[0m \u001b[0;34m=\u001b[0m \u001b[0meng_rep\u001b[0m\u001b[0;34m(\u001b[0m\u001b[0mword\u001b[0m\u001b[0;34m,\u001b[0m \u001b[0meng_alpha2idx\u001b[0m\u001b[0;34m)\u001b[0m\u001b[0;34m\u001b[0m\u001b[0;34m\u001b[0m\u001b[0m\n\u001b[0;32m----> 4\u001b[0;31m     \u001b[0moutput\u001b[0m \u001b[0;34m=\u001b[0m \u001b[0mnet\u001b[0m\u001b[0;34m(\u001b[0m\u001b[0mword_ohe\u001b[0m\u001b[0;34m,\u001b[0m \u001b[0mmax_output_chars\u001b[0m\u001b[0;34m)\u001b[0m\u001b[0;34m\u001b[0m\u001b[0;34m\u001b[0m\u001b[0m\n\u001b[0m\u001b[1;32m      5\u001b[0m     \u001b[0;32mreturn\u001b[0m \u001b[0moutput\u001b[0m\u001b[0;34m\u001b[0m\u001b[0;34m\u001b[0m\u001b[0m\n",
            "\u001b[0;32m/usr/local/lib/python3.10/dist-packages/torch/nn/modules/module.py\u001b[0m in \u001b[0;36m_call_impl\u001b[0;34m(self, *args, **kwargs)\u001b[0m\n\u001b[1;32m   1499\u001b[0m                 \u001b[0;32mor\u001b[0m \u001b[0m_global_backward_pre_hooks\u001b[0m \u001b[0;32mor\u001b[0m \u001b[0m_global_backward_hooks\u001b[0m\u001b[0;34m\u001b[0m\u001b[0;34m\u001b[0m\u001b[0m\n\u001b[1;32m   1500\u001b[0m                 or _global_forward_hooks or _global_forward_pre_hooks):\n\u001b[0;32m-> 1501\u001b[0;31m             \u001b[0;32mreturn\u001b[0m \u001b[0mforward_call\u001b[0m\u001b[0;34m(\u001b[0m\u001b[0;34m*\u001b[0m\u001b[0margs\u001b[0m\u001b[0;34m,\u001b[0m \u001b[0;34m**\u001b[0m\u001b[0mkwargs\u001b[0m\u001b[0;34m)\u001b[0m\u001b[0;34m\u001b[0m\u001b[0;34m\u001b[0m\u001b[0m\n\u001b[0m\u001b[1;32m   1502\u001b[0m         \u001b[0;31m# Do not call functions when jit is used\u001b[0m\u001b[0;34m\u001b[0m\u001b[0;34m\u001b[0m\u001b[0m\n\u001b[1;32m   1503\u001b[0m         \u001b[0mfull_backward_hooks\u001b[0m\u001b[0;34m,\u001b[0m \u001b[0mnon_full_backward_hooks\u001b[0m \u001b[0;34m=\u001b[0m \u001b[0;34m[\u001b[0m\u001b[0;34m]\u001b[0m\u001b[0;34m,\u001b[0m \u001b[0;34m[\u001b[0m\u001b[0;34m]\u001b[0m\u001b[0;34m\u001b[0m\u001b[0;34m\u001b[0m\u001b[0m\n",
            "\u001b[0;32m<ipython-input-72-dc102359ab60>\u001b[0m in \u001b[0;36mforward\u001b[0;34m(self, input, max_output_chars, device, ground_truth)\u001b[0m\n\u001b[1;32m     20\u001b[0m \u001b[0;34m\u001b[0m\u001b[0m\n\u001b[1;32m     21\u001b[0m     \u001b[0;31m# Encoder\u001b[0m\u001b[0;34m\u001b[0m\u001b[0;34m\u001b[0m\u001b[0m\n\u001b[0;32m---> 22\u001b[0;31m     \u001b[0mout\u001b[0m\u001b[0;34m,\u001b[0m \u001b[0mhidden\u001b[0m \u001b[0;34m=\u001b[0m \u001b[0mself\u001b[0m\u001b[0;34m.\u001b[0m\u001b[0mencoder_rnn_cell\u001b[0m\u001b[0;34m(\u001b[0m\u001b[0minput\u001b[0m\u001b[0;34m)\u001b[0m\u001b[0;34m\u001b[0m\u001b[0;34m\u001b[0m\u001b[0m\n\u001b[0m\u001b[1;32m     23\u001b[0m \u001b[0;34m\u001b[0m\u001b[0m\n\u001b[1;32m     24\u001b[0m     \u001b[0;32mif\u001b[0m \u001b[0mself\u001b[0m\u001b[0;34m.\u001b[0m\u001b[0mverbose\u001b[0m\u001b[0;34m:\u001b[0m\u001b[0;34m\u001b[0m\u001b[0;34m\u001b[0m\u001b[0m\n",
            "\u001b[0;32m/usr/local/lib/python3.10/dist-packages/torch/nn/modules/module.py\u001b[0m in \u001b[0;36m_call_impl\u001b[0;34m(self, *args, **kwargs)\u001b[0m\n\u001b[1;32m   1499\u001b[0m                 \u001b[0;32mor\u001b[0m \u001b[0m_global_backward_pre_hooks\u001b[0m \u001b[0;32mor\u001b[0m \u001b[0m_global_backward_hooks\u001b[0m\u001b[0;34m\u001b[0m\u001b[0;34m\u001b[0m\u001b[0m\n\u001b[1;32m   1500\u001b[0m                 or _global_forward_hooks or _global_forward_pre_hooks):\n\u001b[0;32m-> 1501\u001b[0;31m             \u001b[0;32mreturn\u001b[0m \u001b[0mforward_call\u001b[0m\u001b[0;34m(\u001b[0m\u001b[0;34m*\u001b[0m\u001b[0margs\u001b[0m\u001b[0;34m,\u001b[0m \u001b[0;34m**\u001b[0m\u001b[0mkwargs\u001b[0m\u001b[0;34m)\u001b[0m\u001b[0;34m\u001b[0m\u001b[0;34m\u001b[0m\u001b[0m\n\u001b[0m\u001b[1;32m   1502\u001b[0m         \u001b[0;31m# Do not call functions when jit is used\u001b[0m\u001b[0;34m\u001b[0m\u001b[0;34m\u001b[0m\u001b[0m\n\u001b[1;32m   1503\u001b[0m         \u001b[0mfull_backward_hooks\u001b[0m\u001b[0;34m,\u001b[0m \u001b[0mnon_full_backward_hooks\u001b[0m \u001b[0;34m=\u001b[0m \u001b[0;34m[\u001b[0m\u001b[0;34m]\u001b[0m\u001b[0;34m,\u001b[0m \u001b[0;34m[\u001b[0m\u001b[0;34m]\u001b[0m\u001b[0;34m\u001b[0m\u001b[0;34m\u001b[0m\u001b[0m\n",
            "\u001b[0;32m/usr/local/lib/python3.10/dist-packages/torch/nn/modules/rnn.py\u001b[0m in \u001b[0;36mforward\u001b[0;34m(self, input, hx)\u001b[0m\n\u001b[1;32m    996\u001b[0m         \u001b[0mself\u001b[0m\u001b[0;34m.\u001b[0m\u001b[0mcheck_forward_args\u001b[0m\u001b[0;34m(\u001b[0m\u001b[0minput\u001b[0m\u001b[0;34m,\u001b[0m \u001b[0mhx\u001b[0m\u001b[0;34m,\u001b[0m \u001b[0mbatch_sizes\u001b[0m\u001b[0;34m)\u001b[0m\u001b[0;34m\u001b[0m\u001b[0;34m\u001b[0m\u001b[0m\n\u001b[1;32m    997\u001b[0m         \u001b[0;32mif\u001b[0m \u001b[0mbatch_sizes\u001b[0m \u001b[0;32mis\u001b[0m \u001b[0;32mNone\u001b[0m\u001b[0;34m:\u001b[0m\u001b[0;34m\u001b[0m\u001b[0;34m\u001b[0m\u001b[0m\n\u001b[0;32m--> 998\u001b[0;31m             result = _VF.gru(input, hx, self._flat_weights, self.bias, self.num_layers,\n\u001b[0m\u001b[1;32m    999\u001b[0m                              self.dropout, self.training, self.bidirectional, self.batch_first)\n\u001b[1;32m   1000\u001b[0m         \u001b[0;32melse\u001b[0m\u001b[0;34m:\u001b[0m\u001b[0;34m\u001b[0m\u001b[0;34m\u001b[0m\u001b[0m\n",
            "\u001b[0;31mKeyboardInterrupt\u001b[0m: "
          ]
        }
      ]
    },
    {
      "cell_type": "code",
      "source": [
        "MAX_OUTPUT_CHARS = 30\n",
        "\n",
        "class GRU_EncDec(nn.Module):\n",
        "\n",
        "  def __init__(self, input_size, hidden_size, output_size, attn=False, verbose=False):\n",
        "    super(GRU_EncDec, self).__init__()\n",
        "\n",
        "    self.hidden_size = hidden_size\n",
        "    self.output_size = output_size\n",
        "    self.attn = attn\n",
        "\n",
        "    self.encoder_rnn_cell = nn.GRU(input_size, hidden_size)\n",
        "    if self.attn:\n",
        "      self.decoder_rnn_cell = nn.GRU(hidden_size*2, hidden_size)\n",
        "    else:\n",
        "      self.decoder_rnn_cell = nn.GRU(output_size, hidden_size)\n",
        "\n",
        "    self.h2o = nn.Linear(hidden_size, output_size)\n",
        "    self.softmax = nn.LogSoftmax(dim=2)\n",
        "\n",
        "    if self.attn:\n",
        "      self.U = nn.Linear(self.hidden_size, self.hidden_size)\n",
        "      self.W = nn.Linear(self.hidden_size, self.hidden_size)\n",
        "      self.attn_layer = nn.Linear(self.hidden_size, 1)\n",
        "      self.out2hidden = nn.Linear(self.output_size, self.hidden_size)\n",
        "\n",
        "    self.verbose = verbose\n",
        "\n",
        "  def forward(self, input, max_output_chars = MAX_OUTPUT_CHARS, device = 'cpu', ground_truth = None):\n",
        "\n",
        "    # Encoder\n",
        "    if self.attn:\n",
        "      encoder_outputs, hidden = self.encoder_rnn_cell(input)\n",
        "      encoder_outputs = encoder_outputs.view(-1, self.hidden_size)\n",
        "    else:\n",
        "      out, hidden = self.encoder_rnn_cell(input)\n",
        "\n",
        "    if self.verbose:\n",
        "      print('Encoder input', input.shape)\n",
        "      if self.attn:\n",
        "        print('Encoder output', encoder_outputs.shape)\n",
        "      else:\n",
        "        print('Encoder output', out.shape)\n",
        "      print('Encoder hidden', hidden.shape)\n",
        "\n",
        "    # Decoder\n",
        "    decoder_state = hidden\n",
        "    decoder_input = torch.zeros(1,1,self.output_size).to(device)\n",
        "    outputs = []\n",
        "\n",
        "    if self.attn:\n",
        "      U = self.U(encoder_outputs)\n",
        "\n",
        "    if self.verbose:\n",
        "      print('Decoder state', decoder_state.shape)\n",
        "      if self.attn:\n",
        "        print('Decoder intermediate input', decoder_input.shape)\n",
        "        print('U*Encoder output', U.shape)\n",
        "      else:\n",
        "        print('Decoder input', decoder_input.shape)\n",
        "\n",
        "    for i in range(max_output_chars):\n",
        "      if self.attn:\n",
        "        W = self.W(decoder_state.view(1,-1).repeat(encoder_outputs.shape[0],1))\n",
        "        V = self.attn_layer(torch.tanh(U+W))\n",
        "      out, decoder_state = self.decoder_rnn_cell(decoder_input, decoder_state)\n",
        "\n",
        "      if self.verbose:\n",
        "        print('Decoder intermediate output', out.shape)\n",
        "\n",
        "      out = self.h2o(decoder_state)\n",
        "      out = self.softmax(out)\n",
        "      outputs.append(out.view(1,-1))\n",
        "\n",
        "      if self.verbose:\n",
        "        print('Decoder output', out.shape)\n",
        "        self.verbose = False\n",
        "\n",
        "      max_idx = torch.argmax(out,2,keepdim = True)\n",
        "\n",
        "      if not ground_truth is None:\n",
        "        max_idx = ground_truth[i].reshape(1,1,1)\n",
        "      \n",
        "      one_hot = torch.FloatTensor(out.shape).to(device)\n",
        "      one_hot.zero_()\n",
        "      one_hot.scatter_(2,max_idx,1)\n",
        "\n",
        "      decoder_input = one_hot.detach()\n",
        "    return outputs"
      ],
      "metadata": {
        "id": "u9jTHqEJhHOy"
      },
      "execution_count": null,
      "outputs": []
    }
  ]
}